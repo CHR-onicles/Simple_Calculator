{
 "cells": [
  {
   "cell_type": "code",
   "execution_count": 20,
   "metadata": {},
   "outputs": [],
   "source": [
    "# Global variables\n",
    "\n",
    "still_running = True\n",
    "first_run = True\n",
    "valid_expression = False\n",
    "val_1 = 0\n",
    "val_2 = 0\n",
    "op = ''\n",
    "ans = 0  # to be used in future"
   ]
  },
  {
   "cell_type": "code",
   "execution_count": 8,
   "metadata": {},
   "outputs": [],
   "source": [
    "\"\"\"\n",
    "Small functions to perform operations\n",
    "\"\"\"\n",
    "\n",
    "def addition(x1, x2):\n",
    "    return x1 + x2\n",
    "\n",
    "def subtraction(x1, x2):\n",
    "    return x1 - x2\n",
    "\n",
    "def product(x1, x2):\n",
    "    return x1 * x2\n",
    "\n",
    "def division(x1, x2):\n",
    "    return x1 / x2\n",
    "\n",
    "def mod(x1, x2):\n",
    "    return x1 % x2\n",
    "\n",
    "def exponent(x1, x2):\n",
    "    return pow(x1, x2)\n",
    "\n",
    "def intdivision(x1, x2):\n",
    "    return x1 // x2"
   ]
  },
  {
   "cell_type": "code",
   "execution_count": 18,
   "metadata": {},
   "outputs": [],
   "source": [
    "def welcome_screen():\n",
    "    \"\"\"\n",
    "    Function to display operations and welcome user.\n",
    "    \"\"\"\n",
    "    print(\"WELCOME TO SIMPLE CALCULATOR PROGRAM\\n\")\n",
    "    print('Supported Operations: ')\n",
    "    print(\" '+' - Addition\")\n",
    "    print(\" '-' - Subtraction\")\n",
    "    print(\" '*' - Product\")\n",
    "    print(\" 'mod' - Modulo\")\n",
    "    print(\" '^' - Exponent\")\n",
    "    print(\" '\\\\' - Integer Division\")\n",
    "    print(\" 'ans' - To use previous results\")\n",
    "    print(\"\\nExample: 2 + 2\")\n",
    "    print(\"Example2: ans  * 100\")"
   ]
  },
  {
   "cell_type": "code",
   "execution_count": 10,
   "metadata": {},
   "outputs": [],
   "source": [
    "def check_if_int_or_float(value):\n",
    "    global ans\n",
    "    if value.lower() == 'ans':\n",
    "        value = ans\n",
    "    try:\n",
    "        if int(value):\n",
    "            return int(value)\n",
    "    except ValueError:\n",
    "        try:\n",
    "            if float(value):\n",
    "                return float(value)\n",
    "        except ValueError:\n",
    "            return False"
   ]
  },
  {
   "cell_type": "code",
   "execution_count": 11,
   "metadata": {},
   "outputs": [],
   "source": [
    "# main calulator program"
   ]
  },
  {
   "cell_type": "code",
   "execution_count": 21,
   "metadata": {
    "scrolled": false
   },
   "outputs": [
    {
     "name": "stdout",
     "output_type": "stream",
     "text": [
      "WELCOME TO SIMPLE CALCULATOR PROGRAM\n",
      "\n",
      "Supported Operations: \n",
      " '+' - Addition\n",
      " '-' - Subtraction\n",
      " '*' - Product\n",
      " 'mod' - Modulo\n",
      " '^' - Exponent\n",
      " '\\' - Integer Division\n",
      " 'ans' - To use previous results\n",
      "\n",
      "Example: 2 + 2\n",
      "Example2: ans  * 100\n",
      "\n",
      "Please enter an expression (or type q to QUIT): 4 ^ 2\n",
      "Result: 16\n",
      "\n",
      "Please enter an expression (or type q to QUIT): ans * 100\n",
      "Result: 1600\n",
      "\n",
      "Please enter an expression (or type q to QUIT): ans \\ 5.5\n",
      "Result: 290.0\n",
      "\n",
      "Please enter an expression (or type q to QUIT): ans \\ 3\n",
      "Result: 96\n",
      "\n",
      "Please enter an expression (or type q to QUIT): ans / 3\n",
      "Result: 32.0\n",
      "\n",
      "Please enter an expression (or type q to QUIT): ans mod 8\n",
      "Result: 0\n",
      "\n",
      "Please enter an expression (or type q to QUIT): q\n",
      "Goodbye! and enjoy your day.\n"
     ]
    }
   ],
   "source": [
    "\n",
    "while still_running:\n",
    "    \n",
    "    if first_run:\n",
    "        welcome_screen()\n",
    "        \n",
    "    # validating user input\n",
    "    while valid_expression == False:\n",
    "        user_input = input(\"\\nPlease enter an expression (or type q to QUIT): \")    \n",
    "        user_input = user_input.strip()  # removing leading and trailing whitespaces if there are any\n",
    "        split_text = user_input.split(' ')\n",
    "        \n",
    "        if  check_if_int_or_float(split_text[0]) != False and check_if_int_or_float(split_text[2]) != False and split_text[1] in ['mod','+','-','*','/','\\\\','^']:\n",
    "            val_1 = check_if_int_or_float(split_text[0])\n",
    "            val_2 = check_if_int_or_float(split_text[2])\n",
    "            op = split_text[1]\n",
    "            \n",
    "             # performing user operations using switch-like statement\n",
    "            switch = {\n",
    "                '+': addition(val_1, val_2),\n",
    "                '-': subtraction(val_1, val_2),\n",
    "                '*': product(val_1, val_2),\n",
    "                '/': division(val_1, val_2),\n",
    "                '^': exponent(val_1, val_2),\n",
    "                'mod': mod(val_1, val_2),\n",
    "                '\\\\': intdivision(val_1, val_2)\n",
    "            }\n",
    "\n",
    "            result = switch.get(op, lambda: print('Invalid Operator!'))\n",
    "            print(f'Result: {result}')\n",
    "            ans = result\n",
    "            first_run = False\n",
    "            valid_expression = False\n",
    "        \n",
    "        #  check if user wants to quit\n",
    "        elif split_text[0] == 'q':\n",
    "            print('Goodbye! and enjoy your day.')\n",
    "            still_running = False\n",
    "            break\n",
    "        \n",
    "        \n",
    "        else:\n",
    "            print('Invalid expression!')\n",
    "            print('Expression should be of type: [num] [operator] [num]')\n",
    "            print('Please check your whitespaces.')\n",
    "       "
   ]
  }
 ],
 "metadata": {
  "kernelspec": {
   "display_name": "Python 3",
   "language": "python",
   "name": "python3"
  },
  "language_info": {
   "codemirror_mode": {
    "name": "ipython",
    "version": 3
   },
   "file_extension": ".py",
   "mimetype": "text/x-python",
   "name": "python",
   "nbconvert_exporter": "python",
   "pygments_lexer": "ipython3",
   "version": "3.8.3"
  }
 },
 "nbformat": 4,
 "nbformat_minor": 4
}
